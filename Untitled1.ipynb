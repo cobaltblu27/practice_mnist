{
 "cells": [
  {
   "cell_type": "code",
   "execution_count": 1,
   "metadata": {},
   "outputs": [
    {
     "name": "stderr",
     "output_type": "stream",
     "text": [
      "Using TensorFlow backend.\n"
     ]
    }
   ],
   "source": [
    "import keras\n",
    "class mnist():\n",
    "    def __init__(self):\n",
    "        self.img_rows = 28\n",
    "        self.img_cols = 28\n",
    "        self.input_shape = (self.img_rows, self.img_cols, 1)\n",
    "        (xtr, self.ytrain), (xte, self.ytest) = keras.datasets.mnist.load_data()\n",
    "        xtr, yte = xtr / 255.0, xte / 255.0\n",
    "        self.xtrain = xtr.reshape(xtr.shape[0], self.img_rows, self.img_cols, 1)\n",
    "        self.xtest = xte.reshape(xte.shape[0], self.img_rows, self.img_cols, 1)\n",
    "    def trainTutorial(self, epochs=25, batch_size=100):\n",
    "        model = keras.models.Sequential()\n",
    "        cb = [keras.callbacks.EarlyStopping(monitor='loss', min_delta=0.000)]\n",
    "        model.add(keras.layers.Conv2D(32, kernel_size=(3,3), activation='relu', input_shape=self.input_shape))\n",
    "        model.add(keras.layers.MaxPooling2D(pool_size=(2,2)))\n",
    "        model.add(keras.layers.Dropout(0.25))\n",
    "        model.add(keras.layers.Flatten())\n",
    "        model.add(keras.layers.Dense(128, activation='relu'))\n",
    "        model.add(keras.layers.Dropout(0.5))\n",
    "        model.add(keras.layers.Dense(10, activation='softmax'))\n",
    "        model.compile(optimizer='adam', loss='sparse_categorical_crossentropy',\n",
    "                metrics=['accuracy'])\n",
    "        model.fit(self.xtrain, self.ytrain, epochs=epochs, callbacks=cb)\n",
    "        model.evaluate(self.xtest, self.ytest)\n"
   ]
  },
  {
   "cell_type": "code",
   "execution_count": 2,
   "metadata": {},
   "outputs": [
    {
     "name": "stdout",
     "output_type": "stream",
     "text": [
      "WARNING:tensorflow:From /home/seungeun/anaconda3/lib/python3.7/site-packages/tensorflow/python/framework/op_def_library.py:263: colocate_with (from tensorflow.python.framework.ops) is deprecated and will be removed in a future version.\n",
      "Instructions for updating:\n",
      "Colocations handled automatically by placer.\n",
      "WARNING:tensorflow:From /home/seungeun/anaconda3/lib/python3.7/site-packages/keras/backend/tensorflow_backend.py:3445: calling dropout (from tensorflow.python.ops.nn_ops) with keep_prob is deprecated and will be removed in a future version.\n",
      "Instructions for updating:\n",
      "Please use `rate` instead of `keep_prob`. Rate should be set to `rate = 1 - keep_prob`.\n",
      "WARNING:tensorflow:From /home/seungeun/anaconda3/lib/python3.7/site-packages/tensorflow/python/ops/math_ops.py:3066: to_int32 (from tensorflow.python.ops.math_ops) is deprecated and will be removed in a future version.\n",
      "Instructions for updating:\n",
      "Use tf.cast instead.\n",
      "Epoch 1/100\n",
      "60000/60000 [==============================] - 9s 144us/step - loss: 0.2700 - acc: 0.9179\n",
      "Epoch 2/100\n",
      "60000/60000 [==============================] - 5s 75us/step - loss: 0.1241 - acc: 0.9619\n",
      "Epoch 3/100\n",
      "60000/60000 [==============================] - 4s 67us/step - loss: 0.0980 - acc: 0.9704\n",
      "Epoch 4/100\n",
      "60000/60000 [==============================] - 4s 64us/step - loss: 0.0776 - acc: 0.9757\n",
      "Epoch 5/100\n",
      "60000/60000 [==============================] - 4s 70us/step - loss: 0.0652 - acc: 0.9794\n",
      "Epoch 6/100\n",
      "60000/60000 [==============================] - 4s 68us/step - loss: 0.0595 - acc: 0.9814\n",
      "Epoch 7/100\n",
      "60000/60000 [==============================] - 4s 64us/step - loss: 0.0542 - acc: 0.9825\n",
      "Epoch 8/100\n",
      "60000/60000 [==============================] - 4s 65us/step - loss: 0.0477 - acc: 0.9846\n",
      "Epoch 9/100\n",
      "60000/60000 [==============================] - 4s 63us/step - loss: 0.0451 - acc: 0.9858\n",
      "Epoch 10/100\n",
      "60000/60000 [==============================] - 4s 62us/step - loss: 0.0408 - acc: 0.9871\n",
      "Epoch 11/100\n",
      "60000/60000 [==============================] - 4s 69us/step - loss: 0.0375 - acc: 0.9876\n",
      "Epoch 12/100\n",
      "60000/60000 [==============================] - 4s 68us/step - loss: 0.0368 - acc: 0.9876\n",
      "Epoch 13/100\n",
      "60000/60000 [==============================] - 4s 69us/step - loss: 0.0352 - acc: 0.9884\n",
      "Epoch 14/100\n",
      "60000/60000 [==============================] - 4s 67us/step - loss: 0.0322 - acc: 0.9892\n",
      "Epoch 15/100\n",
      "60000/60000 [==============================] - 4s 67us/step - loss: 0.0312 - acc: 0.9897\n",
      "Epoch 16/100\n",
      "60000/60000 [==============================] - 4s 65us/step - loss: 0.0309 - acc: 0.9901\n",
      "Epoch 17/100\n",
      "60000/60000 [==============================] - 4s 66us/step - loss: 0.0275 - acc: 0.9908\n",
      "Epoch 18/100\n",
      "60000/60000 [==============================] - 4s 64us/step - loss: 0.0287 - acc: 0.9907\n",
      "10000/10000 [==============================] - 0s 25us/step\n"
     ]
    }
   ],
   "source": [
    "m = mnist()\n",
    "m.trainTutorial(epochs=100)"
   ]
  },
  {
   "cell_type": "code",
   "execution_count": null,
   "metadata": {},
   "outputs": [],
   "source": []
  }
 ],
 "metadata": {
  "kernelspec": {
   "display_name": "Python 3",
   "language": "python",
   "name": "python3"
  },
  "language_info": {
   "codemirror_mode": {
    "name": "ipython",
    "version": 3
   },
   "file_extension": ".py",
   "mimetype": "text/x-python",
   "name": "python",
   "nbconvert_exporter": "python",
   "pygments_lexer": "ipython3",
   "version": "3.7.1"
  }
 },
 "nbformat": 4,
 "nbformat_minor": 2
}
